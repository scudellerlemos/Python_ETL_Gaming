{
 "cells": [
  {
   "cell_type": "code",
   "execution_count": 1,
   "metadata": {},
   "outputs": [],
   "source": [
    "import pandas as pd\n",
    "import requests as req\n",
    "import os\n",
    "from io import StringIO\n",
    "from io import BytesIO\n",
    "from discord_webhook import DiscordWebhook\n",
    "import boto3\n",
    "import datetime as date\n",
    "import numpy as np\n",
    "\n",
    "from dotenv import load_dotenv\n",
    "\n",
    "load_dotenv()\n",
    "\n",
    "#chaves\n",
    "AWS_KEY=os.environ[\"AWS_KEY\"]\n",
    "AWS_ACC=os.environ[\"AWS_ACC\"]"
   ]
  },
  {
   "cell_type": "code",
   "execution_count": 2,
   "metadata": {},
   "outputs": [],
   "source": [
    "#Fazer upload na S3 AWS\n",
    "def upload_s3(file,paste,bucket,df):\n",
    "    s3_file_key = str(paste)+\"/\"+str(file)\n",
    "    s3 = boto3.client(\"s3\",aws_access_key_id=AWS_ACC, aws_secret_access_key=AWS_KEY)\n",
    "    csv_buf = StringIO()\n",
    "    df.to_csv(csv_buf, header=True, index = False)\n",
    "    csv_buf.seek(0)\n",
    "    s3.put_object(Bucket=bucket,Body=csv_buf.getvalue(),Key=s3_file_key)\n",
    "\n",
    "##Ler  arquivo na S3 AWS\n",
    "def read_csv_s3(file,paste,bucket):\n",
    "    s3_file_key = str(paste)+\"/\"+str(file)\n",
    "    bucket = bucket\n",
    "    s3 = boto3.client(\"s3\",aws_access_key_id=AWS_ACC, aws_secret_access_key=AWS_KEY)\n",
    "    obj = s3.get_object(Bucket=bucket, Key=s3_file_key)\n",
    "    initial_df = pd.read_csv(BytesIO(obj['Body'].read()))\n",
    "    return initial_df\n"
   ]
  },
  {
   "cell_type": "code",
   "execution_count": 3,
   "metadata": {},
   "outputs": [],
   "source": [
    "#Criação da Tabela de PROD CARGOS\n",
    "ANALYTIC_GERAL= read_csv_s3(\"ANALYTIC_GERAL.csv\",\"client\",\"dataff\")\n",
    "membros_diff = ANALYTIC_GERAL[\"Rank\"] != ANALYTIC_GERAL[\"Rank_recomendado\"]\n",
    "PROD_CARGOS = ANALYTIC_GERAL[membros_diff]"
   ]
  },
  {
   "cell_type": "code",
   "execution_count": 5,
   "metadata": {},
   "outputs": [],
   "source": [
    "PROD_CARGOS[\"Rank\"].replace(\"Blue Label\",float(\"NaN\"),inplace=True)\n",
    "PROD_CARGOS[\"Rank\"].replace(\"Platinum Label\",float(\"NaN\"),inplace=True)\n",
    "PROD_CARGOS[\"Rank\"].replace(\"Gold Label\",float(\"NaN\"),inplace=True)\n",
    "PROD_CARGOS[\"Rank\"].replace(\"Black Label\",float(\"NaN\"),inplace=True)\n",
    "PROD_CARGOS[\"Rank\"].replace(\"Red Label\",float(\"NaN\"),inplace=True)\n",
    "PROD_CARGOS[\"Rank\"].replace(\"Cerveja\",float(\"NaN\"),inplace=True)\n",
    "PROD_CARGOS[\"Rank\"].replace(\"Caipirinha\",float(\"NaN\"),inplace=True)\n",
    "PROD_CARGOS = PROD_CARGOS.dropna(subset=[\"Rank_recomendado\",\"Rank\"])\n",
    "\n",
    "\n",
    "upload_s3(\"PROD_CARGOS.csv\",\"client\",\"dataff\",PROD_CARGOS)"
   ]
  }
 ],
 "metadata": {
  "kernelspec": {
   "display_name": "Python 3",
   "language": "python",
   "name": "python3"
  },
  "language_info": {
   "codemirror_mode": {
    "name": "ipython",
    "version": 3
   },
   "file_extension": ".py",
   "mimetype": "text/x-python",
   "name": "python",
   "nbconvert_exporter": "python",
   "pygments_lexer": "ipython3",
   "version": "3.9.10"
  },
  "orig_nbformat": 4,
  "vscode": {
   "interpreter": {
    "hash": "1a0efc7ed7210c8daa9aadd584bbae766f571d407ba1506112b0e572af6a4d67"
   }
  }
 },
 "nbformat": 4,
 "nbformat_minor": 2
}
