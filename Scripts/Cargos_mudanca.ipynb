{
 "cells": [
  {
   "cell_type": "code",
   "execution_count": 1,
   "metadata": {},
   "outputs": [],
   "source": [
    "import pandas as pd\n",
    "import requests as req\n",
    "import os\n",
    "from io import StringIO\n",
    "from io import BytesIO\n",
    "from discord_webhook import DiscordWebhook, DiscordEmbed\n",
    "import boto3\n",
    "\n",
    "#chaves\n",
    "WEBHOOK_REGRAS_CARGOS=os.environ[\"WEBHOOK_REGRAS_CARGOS\"]\n",
    "AWS_KEY=os.environ[\"AWS_KEY\"]\n",
    "AWS_ACC=os.environ[\"AWS_ACC\"]"
   ]
  },
  {
   "cell_type": "code",
   "execution_count": 2,
   "metadata": {},
   "outputs": [],
   "source": [
    "#Fazer upload na S3 AWS\n",
    "def upload_s3(file,paste,bucket,df):\n",
    "    s3_file_key = str(paste)+\"/\"+str(file)\n",
    "    s3 = boto3.client(\"s3\",aws_access_key_id=AWS_ACC, aws_secret_access_key=AWS_KEY)\n",
    "    csv_buf = StringIO()\n",
    "    df.to_csv(csv_buf, header=True, index = False)\n",
    "    csv_buf.seek(0)\n",
    "    s3.put_object(Bucket=bucket,Body=csv_buf.getvalue(),Key=s3_file_key)\n",
    "\n",
    "##Ler  arquivo na S3 AWS\n",
    "def read_csv_s3(file,paste,bucket):\n",
    "    s3_file_key = str(paste)+\"/\"+str(file)\n",
    "    bucket = bucket\n",
    "    s3 = boto3.client(\"s3\",aws_access_key_id=AWS_ACC, aws_secret_access_key=AWS_KEY)\n",
    "    obj = s3.get_object(Bucket=bucket, Key=s3_file_key)\n",
    "    initial_df = pd.read_csv(BytesIO(obj['Body'].read()))\n",
    "    return initial_df"
   ]
  },
  {
   "cell_type": "code",
   "execution_count": 3,
   "metadata": {},
   "outputs": [],
   "source": [
    "PROD_CARGOS = read_csv_s3(\"PROD_CARGOS.csv\",\"client\",\"dataff\")"
   ]
  },
  {
   "cell_type": "code",
   "execution_count": 4,
   "metadata": {},
   "outputs": [],
   "source": [
    "if (PROD_CARGOS[\"Rank\"].count()>0):\n",
    "    webin = DiscordWebhook(url=WEBHOOK_REGRAS_CARGOS)\n",
    "    embed = DiscordEmbed(title='Alteração de Cargos', description='Estas são as pessoas que merecem nossa atenção para alteração de cargo no FF XIV.  (Alterar SOMENTE no jogo!!!)', color='ffa1b3')\n",
    "    embed.set_author(\n",
    "        name=\"Gaj Shield\",\n",
    "        url=\"https://na.finalfantasyxiv.com/lodestone/character/31418891/\",\n",
    "        icon_url=\"https://img2.finalfantasyxiv.com/f/a331cfa93a83a2a0fcfc9fb0d9bf0e73_be20385e18333edb329d4574f364a1f0fc0_96x96.jpg?1674791220\",\n",
    "        )\n",
    "    embed.set_timestamp()\n",
    "    for i in range(0,PROD_CARGOS[\"Rank\"].count()):\n",
    "        embed.add_embed_field(name=str(PROD_CARGOS[\"Name\"][i]), value=\"Alterar cargo \"+ \"**\"+str(PROD_CARGOS[\"Rank\"][i]) + \"**\"+ \" para \"+ \"**\"+str(PROD_CARGOS[\"Rank_recomendado\"][i])+ \"**\" , inline=False)\n",
    "    webin.add_embed(embed)\n",
    "    response = webin.execute()\n"
   ]
  }
 ],
 "metadata": {
  "kernelspec": {
   "display_name": "Python 3",
   "language": "python",
   "name": "python3"
  },
  "language_info": {
   "codemirror_mode": {
    "name": "ipython",
    "version": 3
   },
   "file_extension": ".py",
   "mimetype": "text/x-python",
   "name": "python",
   "nbconvert_exporter": "python",
   "pygments_lexer": "ipython3",
   "version": "3.9.10"
  },
  "orig_nbformat": 4,
  "vscode": {
   "interpreter": {
    "hash": "1a0efc7ed7210c8daa9aadd584bbae766f571d407ba1506112b0e572af6a4d67"
   }
  }
 },
 "nbformat": 4,
 "nbformat_minor": 2
}
