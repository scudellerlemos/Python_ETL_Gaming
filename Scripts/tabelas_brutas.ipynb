{
 "cells": [
  {
   "cell_type": "code",
   "execution_count": 1,
   "metadata": {},
   "outputs": [],
   "source": [
    "import pandas as pd\n",
    "import requests as req\n",
    "import os\n",
    "from io import StringIO\n",
    "from io import BytesIO\n",
    "from discord_webhook import DiscordWebhook\n",
    "import boto3\n",
    "\n",
    "from dotenv import load_dotenv\n",
    "\n",
    "load_dotenv()\n",
    "\n",
    "#chaves\n",
    "AWS_KEY=os.environ[\"AWS_KEY\"]\n",
    "AWS_ACC=os.environ[\"AWS_ACC\"]\n",
    "AUTH_DISCORD_DATA=os.environ[\"AUTH_DISCORD_DATA\"]"
   ]
  },
  {
   "cell_type": "code",
   "execution_count": 2,
   "metadata": {},
   "outputs": [],
   "source": [
    "#Pegar JSON FILE da FC\n",
    "def dados_FC():\n",
    "    response = req.get(\"https://xivapi.com/freecompany/9234349560946634431?data=FCM\")\n",
    "    return response.json()\n",
    "\n",
    "def personagens(id):\n",
    "    response = req.get(\"https://xivapi.com/character/\"+ id)\n",
    "    return response.json()\n",
    "\n",
    "#Fazer upload na S3 AWS\n",
    "def upload_s3(file,paste,bucket,df):\n",
    "    s3_file_key = str(paste)+\"/\"+str(file)\n",
    "    s3 = boto3.client(\"s3\",aws_access_key_id=AWS_ACC, aws_secret_access_key=AWS_KEY)\n",
    "    csv_buf = StringIO()\n",
    "    df.to_csv(csv_buf, header=True, index = False)\n",
    "    csv_buf.seek(0)\n",
    "    s3.put_object(Bucket=bucket,Body=csv_buf.getvalue(),Key=s3_file_key)\n",
    "\n",
    "##Ler  arquivo na S3 AWS\n",
    "def read_csv_s3(file,paste,bucket):\n",
    "    s3_file_key = str(paste)+\"/\"+str(file)\n",
    "    bucket = bucket\n",
    "    s3 = boto3.client(\"s3\",aws_access_key_id=AWS_ACC, aws_secret_access_key=AWS_KEY)\n",
    "    obj = s3.get_object(Bucket=bucket, Key=s3_file_key)\n",
    "    initial_df = pd.read_csv(BytesIO(obj['Body'].read()))\n",
    "    return initial_df\n",
    "\n",
    "def discord():\n",
    "    headers = {\n",
    "        'authorization':AUTH_DISCORD_DATA\n",
    "    }\n",
    "    response = req.get(f\"https://discord.com/api/v9/channels/1066456073504034966/messages\", headers=headers)\n",
    "    return response.json()\n",
    "\n",
    "def discord_50_m(id):\n",
    "    headers = {\n",
    "        'authorization':AUTH_DISCORD_DATA\n",
    "    }\n",
    "    response = req.get(f\"https://discord.com/api/v9/channels/1066456073504034966/messages?before=\" + id + \"&limit=50\", headers=headers)\n",
    "    return response.json()"
   ]
  },
  {
   "cell_type": "code",
   "execution_count": 3,
   "metadata": {},
   "outputs": [],
   "source": [
    "FATO_MEMBROS_FC = pd.DataFrame(dados_FC()[\"FreeCompanyMembers\"])\n",
    "FATO_MEMBROS_FC.drop([\"Lang\",\"RankIcon\",\"FeastMatches\",\"Server\"],axis = 1, inplace = True)\n",
    "\n",
    "FATO_MEMBROS_FC[\"ID\"] = FATO_MEMBROS_FC[\"ID\"].astype(str) \n",
    "FATO_MEMBROS_FC[\"Lodestone\"] = \"https://na.finalfantasyxiv.com/lodestone/character/\" + FATO_MEMBROS_FC[\"ID\"] "
   ]
  },
  {
   "cell_type": "code",
   "execution_count": 4,
   "metadata": {},
   "outputs": [],
   "source": [
    "RAW_ClassJobs = pd.DataFrame([])\n",
    "x=0\n",
    "for x in range(0, FATO_MEMBROS_FC[\"ID\"].count()):\n",
    "    sup= pd.DataFrame(personagens(FATO_MEMBROS_FC[\"ID\"][x])[\"Character\"][\"ClassJobs\"])\n",
    "    sup.drop(list(sup.filter(regex = \"Exp\")), axis = 1, inplace = True)\n",
    "    sup.drop([\"ClassID\",\"IsSpecialised\",\"JobID\",\"UnlockedState\"], axis =1, inplace = True)\n",
    "    sup[\"Lodestone\"] = \"https://na.finalfantasyxiv.com/lodestone/character/\" + FATO_MEMBROS_FC[\"ID\"][x]\n",
    "    RAW_ClassJobs = pd.concat([RAW_ClassJobs,sup])\n",
    "\n",
    "RAW_ClassJobs.reset_index(drop = True, inplace = True)"
   ]
  },
  {
   "cell_type": "code",
   "execution_count": 5,
   "metadata": {},
   "outputs": [],
   "source": [
    "RAW_discord=pd.DataFrame(discord())\n",
    "\n",
    "x = RAW_discord[\"id\"].min() \n",
    "\n",
    "while x != \"1067307761966252043\":\n",
    "    sup = pd.DataFrame(discord_50_m(x))  \n",
    "    x = sup[\"id\"].min()\n",
    "    RAW_discord = pd.concat([RAW_discord,sup])\n",
    "\n",
    "RAW_discord.drop([\"type\",\"channel_id\",\"author\",\"attachments\",\"embeds\",\"mentions\",\"mention_roles\",\"pinned\",\"mention_everyone\",\"tts\",\"edited_timestamp\",\"flags\",\"components\",\"webhook_id\"], axis =1 , inplace= True)    \n",
    "RAW_discord[\"timestamp\"] = RAW_discord[\"timestamp\"].astype(str).str[:10]\n",
    "sup = list(RAW_discord.columns)\n",
    "sup[sup.index(\"content\")] = \"mensagem\"\n",
    "sup[sup.index(\"timestamp\")] = \"data\"\n",
    "RAW_discord.columns = sup\n",
    "RAW_discord.reset_index(drop = True, inplace= True)"
   ]
  },
  {
   "cell_type": "code",
   "execution_count": 6,
   "metadata": {},
   "outputs": [],
   "source": [
    "#Upload tabelas na AWS (bruto)\n",
    "upload_s3(\"RAW_DISCORD_HISTORY.csv\",\"client\",\"dataff\",RAW_discord)\n",
    "upload_s3(\"RAW_ClassJobs.csv\",\"client\",\"dataff\",RAW_ClassJobs)\n",
    "upload_s3(\"FATO_MEMBROS_FC.csv\",\"client\",\"dataff\",FATO_MEMBROS_FC)"
   ]
  }
 ],
 "metadata": {
  "kernelspec": {
   "display_name": "Python 3",
   "language": "python",
   "name": "python3"
  },
  "language_info": {
   "codemirror_mode": {
    "name": "ipython",
    "version": 3
   },
   "file_extension": ".py",
   "mimetype": "text/x-python",
   "name": "python",
   "nbconvert_exporter": "python",
   "pygments_lexer": "ipython3",
   "version": "3.9.10"
  },
  "orig_nbformat": 4,
  "vscode": {
   "interpreter": {
    "hash": "1a0efc7ed7210c8daa9aadd584bbae766f571d407ba1506112b0e572af6a4d67"
   }
  }
 },
 "nbformat": 4,
 "nbformat_minor": 2
}
