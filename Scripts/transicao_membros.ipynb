{
 "cells": [
  {
   "cell_type": "code",
   "execution_count": 2,
   "metadata": {},
   "outputs": [],
   "source": [
    "import pandas as pd\n",
    "import requests as req\n",
    "import os\n",
    "from io import StringIO\n",
    "from io import BytesIO\n",
    "from discord_webhook import DiscordWebhook\n",
    "import boto3\n",
    "\n",
    "#chaves\n",
    "WEBHOOK_SAIU_FC=os.environ[\"WEBHOOK_SAIU_FC\"]\n",
    "WEBHOOK_ENTROU_FC=os.environ[\"WEBHOOK_ENTROU_FC\"]\n",
    "AWS_KEY=os.environ[\"AWS_KEY\"]\n",
    "AWS_ACC=os.environ[\"AWS_ACC\"]"
   ]
  },
  {
   "cell_type": "code",
   "execution_count": 3,
   "metadata": {},
   "outputs": [],
   "source": [
    "#Pegar JSON FILE da FC\n",
    "def dados_FC():\n",
    "    response = req.get(\"https://xivapi.com/freecompany/9234349560946634431?data=FCM\")\n",
    "    return response.json()\n",
    "\n",
    "#Fazer upload na S3 AWS\n",
    "def upload_s3(file,paste,bucket,df):\n",
    "    s3_file_key = str(paste)+\"/\"+str(file)\n",
    "    s3 = boto3.client(\"s3\",aws_access_key_id=AWS_ACC, aws_secret_access_key=AWS_KEY)\n",
    "    csv_buf = StringIO()\n",
    "    df.to_csv(csv_buf, header=True, index = False)\n",
    "    csv_buf.seek(0)\n",
    "    s3.put_object(Bucket=bucket,Body=csv_buf.getvalue(),Key=s3_file_key)\n",
    "\n",
    "##Ler  arquivo na S3 AWS\n",
    "def read_csv_s3(file,paste,bucket):\n",
    "    s3_file_key = str(paste)+\"/\"+str(file)\n",
    "    bucket = bucket\n",
    "    s3 = boto3.client(\"s3\",aws_access_key_id=AWS_ACC, aws_secret_access_key=AWS_KEY)\n",
    "    obj = s3.get_object(Bucket=bucket, Key=s3_file_key)\n",
    "    initial_df = pd.read_csv(BytesIO(obj['Body'].read()))\n",
    "    return initial_df"
   ]
  },
  {
   "cell_type": "code",
   "execution_count": 4,
   "metadata": {},
   "outputs": [],
   "source": [
    "#Criação da tabela de membros de hoje\n",
    "MEMBROS_FC_DEPOIS = pd.DataFrame(dados_FC()[\"FreeCompanyMembers\"])\n",
    "MEMBROS_FC_DEPOIS.drop([\"Lang\",\"RankIcon\",\"FeastMatches\",\"Server\"],axis = 1, inplace = True)\n"
   ]
  },
  {
   "cell_type": "code",
   "execution_count": 5,
   "metadata": {},
   "outputs": [],
   "source": [
    "#Criação da tabela de ontem\n",
    "MEMBROS_FC_antes = read_csv_s3(\"RAW_MEMBROS_BACKUP.csv\",\"client\",\"dataff\")\n"
   ]
  },
  {
   "cell_type": "code",
   "execution_count": 6,
   "metadata": {},
   "outputs": [],
   "source": [
    "#Listas com os IDs das tabelas\n",
    "Lista_membros_depois = list(MEMBROS_FC_DEPOIS[\"ID\"])\n",
    "Lista_membros_antes = list(MEMBROS_FC_antes[\"ID\"])\n",
    "Lista_membros_total = list(dict.fromkeys(Lista_membros_antes+Lista_membros_depois))\n"
   ]
  },
  {
   "cell_type": "code",
   "execution_count": 7,
   "metadata": {},
   "outputs": [],
   "source": [
    "#Criação das listas das pessoas que entraram na FC ou sairam\n",
    "lista_entrou = []\n",
    "lista_saiu = []\n",
    "lista_lixo = []\n",
    "for ID in Lista_membros_total:\n",
    "    ##saiu\n",
    "    if ID in Lista_membros_antes:\n",
    "        if ID in Lista_membros_depois:\n",
    "            lista_lixo = []\n",
    "        else:\n",
    "            lista_saiu.append(ID)\n",
    "    ##entrou\n",
    "    else:\n",
    "        if ID in Lista_membros_depois:\n",
    "            lista_entrou.append(ID)\n",
    "        else:\n",
    "            lista_lixo = []"
   ]
  },
  {
   "cell_type": "code",
   "execution_count": 8,
   "metadata": {},
   "outputs": [],
   "source": [
    "dados = pd.concat([MEMBROS_FC_DEPOIS,MEMBROS_FC_antes],ignore_index=True)\n",
    "dados.drop_duplicates(subset=[\"ID\"],inplace=True)\n",
    "#Dataframe das pessoas que entraram da FC\n",
    "dados_entrou=dados[dados['ID'].isin(lista_entrou)]\n",
    "#Dataframe das pessoas que sairam da FC\n",
    "dados_saiu=dados[dados['ID'].isin(lista_saiu)]"
   ]
  },
  {
   "cell_type": "code",
   "execution_count": 9,
   "metadata": {},
   "outputs": [],
   "source": [
    "dados_entrou.reset_index(drop = True, inplace = True)\n",
    "dados_saiu.reset_index(drop = True, inplace = True)"
   ]
  },
  {
   "cell_type": "code",
   "execution_count": 10,
   "metadata": {},
   "outputs": [],
   "source": [
    "#postagem das mensagens no discord\n",
    "if len(lista_entrou)>0:\n",
    "    for i in range(0,len(lista_entrou)):\n",
    "        webhook = DiscordWebhook(url=WEBHOOK_ENTROU_FC, content=str(dados_entrou[\"Name\"][i]) +  \"  (ID:\"+ str(dados_entrou[\"ID\"][i])+\")  entrou na fc.\")\n",
    "        response = webhook.execute()  "
   ]
  },
  {
   "cell_type": "code",
   "execution_count": 14,
   "metadata": {},
   "outputs": [],
   "source": [
    "##postagem das mensagens no discord\n",
    "if len(lista_saiu)>0:\n",
    "    for i in range(0,len(lista_saiu)):\n",
    "        webhook = DiscordWebhook(url=WEBHOOK_SAIU_FC, content=str(dados_saiu[\"Name\"][i]) +  \"  (ID:\"+ str(dados_saiu[\"ID\"][i])+\")  saiu da fc.\")\n",
    "        response = webhook.execute()  "
   ]
  },
  {
   "cell_type": "code",
   "execution_count": 15,
   "metadata": {},
   "outputs": [],
   "source": [
    "upload_s3(\"RAW_MEMBROS_BACKUP.csv\",\"client\",\"dataff\",MEMBROS_FC_DEPOIS)"
   ]
  }
 ],
 "metadata": {
  "kernelspec": {
   "display_name": "Python 3",
   "language": "python",
   "name": "python3"
  },
  "language_info": {
   "codemirror_mode": {
    "name": "ipython",
    "version": 3
   },
   "file_extension": ".py",
   "mimetype": "text/x-python",
   "name": "python",
   "nbconvert_exporter": "python",
   "pygments_lexer": "ipython3",
   "version": "3.9.10"
  },
  "orig_nbformat": 4,
  "vscode": {
   "interpreter": {
    "hash": "1a0efc7ed7210c8daa9aadd584bbae766f571d407ba1506112b0e572af6a4d67"
   }
  }
 },
 "nbformat": 4,
 "nbformat_minor": 2
}
